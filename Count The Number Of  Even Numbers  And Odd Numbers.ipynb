{
 "cells": [
  {
   "cell_type": "code",
   "execution_count": 1,
   "id": "df901eff",
   "metadata": {},
   "outputs": [
    {
     "name": "stdout",
     "output_type": "stream",
     "text": [
      "The total number of even numbers is : 4\n",
      "The total numbers of odd numbers is : 5\n"
     ]
    }
   ],
   "source": [
    "x = [1,2,3,4,5,6,7,8,9]\n",
    "\n",
    "count_even = 0\n",
    "count_odd = 0\n",
    "\n",
    "for i in x:\n",
    "    if(i%2==0):\n",
    "        count_even += 1\n",
    "     \n",
    "    else:\n",
    "        count_odd += 1\n",
    "          \n",
    "print(\"The total number of even numbers is :\",count_even)\n",
    "print(\"The total numbers of odd numbers is :\",count_odd)"
   ]
  },
  {
   "cell_type": "code",
   "execution_count": null,
   "id": "aba52480",
   "metadata": {},
   "outputs": [],
   "source": []
  }
 ],
 "metadata": {
  "kernelspec": {
   "display_name": "Python 3 (ipykernel)",
   "language": "python",
   "name": "python3"
  },
  "language_info": {
   "codemirror_mode": {
    "name": "ipython",
    "version": 3
   },
   "file_extension": ".py",
   "mimetype": "text/x-python",
   "name": "python",
   "nbconvert_exporter": "python",
   "pygments_lexer": "ipython3",
   "version": "3.10.1"
  }
 },
 "nbformat": 4,
 "nbformat_minor": 5
}
