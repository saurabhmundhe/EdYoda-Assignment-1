{
 "cells": [
  {
   "cell_type": "code",
   "execution_count": 1,
   "id": "fcdcdc94",
   "metadata": {},
   "outputs": [
    {
     "name": "stdout",
     "output_type": "stream",
     "text": [
      "Enter the value of n :10\n",
      "Enter the First Number : 0\n",
      "Enter the Second Number : 1\n",
      "1,1,2,3,5,8,13,21,34,"
     ]
    }
   ],
   "source": [
    "def fib(n):\n",
    "    \n",
    "    a = int(input(\"Enter the First Number : \"))\n",
    "    b = int(input(\"Enter the Second Number : \"))\n",
    "    print(b,end=\",\")\n",
    "    \n",
    "    for i in range(2,n):\n",
    "        c = a + b\n",
    "        a = b\n",
    "        b = c\n",
    "        print(c,end=\",\")\n",
    "        \n",
    "n = int(input(\"Enter the value of n :\"))\n",
    "fib(n)"
   ]
  },
  {
   "cell_type": "code",
   "execution_count": null,
   "id": "3ca9f267",
   "metadata": {},
   "outputs": [],
   "source": []
  }
 ],
 "metadata": {
  "kernelspec": {
   "display_name": "Python 3 (ipykernel)",
   "language": "python",
   "name": "python3"
  },
  "language_info": {
   "codemirror_mode": {
    "name": "ipython",
    "version": 3
   },
   "file_extension": ".py",
   "mimetype": "text/x-python",
   "name": "python",
   "nbconvert_exporter": "python",
   "pygments_lexer": "ipython3",
   "version": "3.10.1"
  }
 },
 "nbformat": 4,
 "nbformat_minor": 5
}
